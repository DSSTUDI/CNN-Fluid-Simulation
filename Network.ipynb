{
 "cells": [
  {
   "cell_type": "code",
   "execution_count": 3,
   "metadata": {},
   "outputs": [],
   "source": [
    "import torch\n",
    "import torch.nn as nn\n",
    "import torch.optim as optim\n",
    "import matplotlib.pyplot as plt\n",
    "import numpy as np"
   ]
  },
  {
   "cell_type": "code",
   "execution_count": 4,
   "metadata": {},
   "outputs": [],
   "source": [
    "# Define the CNN architecture\n",
    "class CFD_CNN(nn.Module):\n",
    "    def __init__(self):\n",
    "        super(CFD_CNN, self).__init__()\n",
    "        # Encoding layers\n",
    "        self.encoder = nn.Sequential(\n",
    "            nn.Conv2d(1, 32, kernel_size=3, stride=1, padding=1),\n",
    "            nn.ReLU(),\n",
    "            nn.Conv2d(32, 64, kernel_size=3, stride=1, padding=1),\n",
    "            nn.ReLU(),\n",
    "            nn.Conv2d(64, 128, kernel_size=3, stride=1, padding=1),\n",
    "            nn.ReLU(),\n",
    "            nn.Conv2d(128, 256, kernel_size=3, stride=1, padding=1),\n",
    "            nn.ReLU()\n",
    "        )\n",
    "        \n",
    "        # Fully connected layer to reduce dimensionality\n",
    "        self.fc1 = nn.Linear(256 * 32 * 32, 1024)  # Assuming input size 32x32\n",
    "        self.fc2 = nn.Linear(1024, 256 * 32 * 32)\n",
    "        \n",
    "        # Decoding layers\n",
    "        self.decoder = nn.Sequential(\n",
    "            nn.ConvTranspose2d(256, 128, kernel_size=3, stride=1, padding=1),\n",
    "            nn.ReLU(),\n",
    "            nn.ConvTranspose2d(128, 64, kernel_size=3, stride=1, padding=1),\n",
    "            nn.ReLU(),\n",
    "            nn.ConvTranspose2d(64, 32, kernel_size=3, stride=1, padding=1),\n",
    "            nn.ReLU(),\n",
    "            nn.ConvTranspose2d(32, 2, kernel_size=3, stride=1, padding=1),  # Output has 2 channels for velocity components\n",
    "        )\n",
    "\n",
    "    def forward(self, x):\n",
    "        # Encoding\n",
    "        x = self.encoder(x)\n",
    "        x = x.view(x.size(0), -1)\n",
    "        x = self.fc1(x)\n",
    "        x = self.fc2(x)\n",
    "        x = x.view(x.size(0), 256, 32, 32)  # Reshape for decoding\n",
    "\n",
    "        # Decoding\n",
    "        x = self.decoder(x)\n",
    "        return x\n"
   ]
  },
  {
   "cell_type": "code",
   "execution_count": 5,
   "metadata": {},
   "outputs": [],
   "source": [
    "def sdf_circle(center, radius, grid):\n",
    "    \"\"\"Generate Signed Distance Function for a circle.\"\"\"\n",
    "    cx, cy = center\n",
    "    x, y = np.meshgrid(np.arange(grid), np.arange(grid))\n",
    "    sdf = np.sqrt((x - cx)**2 + (y - cy)**2) - radius\n",
    "    return sdf\n",
    "\n",
    "def sdf_rectangle(center, width, height, grid):\n",
    "    \"\"\"Generate Signed Distance Function for a rectangle.\"\"\"\n",
    "    cx, cy = center\n",
    "    x, y = np.meshgrid(np.arange(grid), np.arange(grid))\n",
    "    dx = np.maximum(np.abs(x - cx) - width / 2, 0)\n",
    "    dy = np.maximum(np.abs(y - cy) - height / 2, 0)\n",
    "    sdf = np.sqrt(dx**2 + dy**2)\n",
    "    sdf = np.where(np.abs(x - cx) <= width / 2, np.maximum(dy, 0), sdf)\n",
    "    sdf = np.where(np.abs(y - cy) <= height / 2, np.maximum(dx, 0), sdf)\n",
    "    return sdf\n",
    "\n",
    "def sdf_triangle(vertices, grid):\n",
    "    \"\"\"Generate Signed Distance Function for a triangle.\"\"\"\n",
    "    x, y = np.meshgrid(np.arange(grid), np.arange(grid))\n",
    "    v0, v1, v2 = vertices\n",
    "    \n",
    "    def edge_sdf(px, py, ax, ay, bx, by):\n",
    "        pa_x, pa_y = px - ax, py - ay\n",
    "        ba_x, ba_y = bx - ax, by - ay\n",
    "        h = np.clip((pa_x * ba_x + pa_y * ba_y) / (ba_x**2 + ba_y**2), 0, 1)\n",
    "        return np.sqrt((pa_x - h * ba_x)**2 + (pa_y - h * ba_y)**2)\n",
    "    \n",
    "    sdf0 = edge_sdf(x, y, *v0, *v1)\n",
    "    sdf1 = edge_sdf(x, y, *v1, *v2)\n",
    "    sdf2 = edge_sdf(x, y, *v2, *v0)\n",
    "    \n",
    "    sign0 = (x - v0[0]) * (v1[1] - v0[1]) - (y - v0[1]) * (v1[0] - v0[0]) < 0\n",
    "    sign1 = (x - v1[0]) * (v2[1] - v1[1]) - (y - v1[1]) * (v2[0] - v1[0]) < 0\n",
    "    sign2 = (x - v2[0]) * (v0[1] - v2[1]) - (y - v2[1]) * (v0[0] - v2[0]) < 0\n",
    "    \n",
    "    sdf = np.minimum(np.minimum(sdf0, sdf1), sdf2)\n",
    "    sdf[sign0 == sign1] = -sdf[sign0 == sign1]\n",
    "    sdf[sign1 == sign2] = -sdf[sign1 == sign2]\n",
    "    return sdf\n",
    "\n",
    "def generate_dataset(grid_size=32, num_samples=100):\n",
    "    \"\"\"Generate a dataset of SDFs for different shapes.\"\"\"\n",
    "    dataset = []\n",
    "    labels = []\n",
    "    \n",
    "    for _ in range(num_samples):\n",
    "        shape_type = np.random.choice(['circle', 'rectangle', 'triangle'])\n",
    "        if shape_type == 'circle':\n",
    "            radius = np.random.uniform(5, 12)\n",
    "            center = np.random.uniform(radius, grid_size - radius, 2)\n",
    "            sdf = sdf_circle(center, radius, grid_size)\n",
    "        elif shape_type == 'rectangle':\n",
    "            width = np.random.uniform(5, 12)\n",
    "            height = np.random.uniform(5, 12)\n",
    "            center = np.random.uniform(max(width, height) / 2, grid_size - max(width, height) / 2, 2)\n",
    "            sdf = sdf_rectangle(center, width, height, grid_size)\n",
    "        elif shape_type == 'triangle':\n",
    "            vertices = np.random.uniform(5, grid_size - 5, (3, 2))\n",
    "            sdf = sdf_triangle(vertices, grid_size)\n",
    "        \n",
    "        dataset.append(sdf)\n",
    "        labels.append(shape_type)\n",
    "    \n",
    "    return np.array(dataset), np.array(labels)\n",
    "\n",
    "# Generate the dataset\n",
    "dataset, labels = generate_dataset()\n",
    "tensor_dataset = torch.tensor(dataset).unsqueeze(1).float()\n"
   ]
  },
  {
   "cell_type": "code",
   "execution_count": 5,
   "metadata": {},
   "outputs": [
    {
     "data": {
      "image/png": "[encoded data removed]",
      "text/plain": [
       "<Figure size 640x480 with 1 Axes>"
      ]
     },
     "metadata": {},
     "output_type": "display_data"
    },
    {
     "name": "stdout",
     "output_type": "stream",
     "text": [
      "<built-in method type of Tensor object at 0x1240afb30>\n"
     ]
    }
   ],
   "source": [
    "plt.imshow(tensor_dataset[0][0], cmap='hot', interpolation='nearest')\n",
    "plt.show()\n",
    "print(tensor_dataset[0][0].type)"
   ]
  },
  {
   "cell_type": "code",
   "execution_count": 6,
   "metadata": {},
   "outputs": [
    {
     "name": "stdout",
     "output_type": "stream",
     "text": [
      "torch.Size([100, 2, 32, 32])\n",
      "<built-in method type of Tensor object at 0x127ef3b90>\n"
     ]
    }
   ],
   "source": [
    "# Initialize the model, loss function, and optimizer\n",
    "model = CFD_CNN()\n",
    "criterion = nn.MSELoss()\n",
    "optimizer = optim.Adam(model.parameters(), lr=0.001)\n",
    "\n",
    "input_tensor = tensor_dataset \n",
    "# input_tensor = torch.randn((10, 1, 32, 32))  # Example batch of 10, 32x32 grid\n",
    "\n",
    "# Forward pass\n",
    "output_tensor = model(input_tensor)\n",
    "print(output_tensor.shape)  # Should be (10, 2, 32, 32) for 2D velocity components\n",
    "\n",
    "print(input_tensor.type)"
   ]
  },
  {
   "cell_type": "code",
   "execution_count": 44,
   "metadata": {},
   "outputs": [
    {
     "name": "stderr",
     "output_type": "stream",
     "text": [
      "/Library/Frameworks/Python.framework/Versions/3.11/lib/python3.11/site-packages/torch/nn/modules/loss.py:535: UserWarning: Using a target size (torch.Size([100, 1, 32, 32])) that is different to the input size (torch.Size([100, 2, 32, 32])). This will likely lead to incorrect results due to broadcasting. Please ensure they have the same size.\n",
      "  return F.mse_loss(input, target, reduction=self.reduction)\n"
     ]
    },
    {
     "name": "stdout",
     "output_type": "stream",
     "text": [
      "Epoch [1/10], Loss: 107.5663\n",
      "Epoch [2/10], Loss: 29458.8828\n"
     ]
    },
    {
     "ename": "KeyboardInterrupt",
     "evalue": "",
     "output_type": "error",
     "traceback": [
      "\u001b[0;31m---------------------------------------------------------------------------\u001b[0m",
      "\u001b[0;31mKeyboardInterrupt\u001b[0m                         Traceback (most recent call last)",
      "Cell \u001b[0;32mIn[44], line 12\u001b[0m\n\u001b[1;32m      9\u001b[0m loss \u001b[38;5;241m=\u001b[39m criterion(outputs, input_tensor)  \u001b[38;5;66;03m# Assuming input_tensor contains the target velocities for simplicity\u001b[39;00m\n\u001b[1;32m     11\u001b[0m \u001b[38;5;66;03m# Backward pass\u001b[39;00m\n\u001b[0;32m---> 12\u001b[0m \u001b[43mloss\u001b[49m\u001b[38;5;241;43m.\u001b[39;49m\u001b[43mbackward\u001b[49m\u001b[43m(\u001b[49m\u001b[43m)\u001b[49m\n\u001b[1;32m     13\u001b[0m optimizer\u001b[38;5;241m.\u001b[39mstep()\n\u001b[1;32m     15\u001b[0m \u001b[38;5;28mprint\u001b[39m(\u001b[38;5;124mf\u001b[39m\u001b[38;5;124m'\u001b[39m\u001b[38;5;124mEpoch [\u001b[39m\u001b[38;5;132;01m{\u001b[39;00mepoch\u001b[38;5;241m+\u001b[39m\u001b[38;5;241m1\u001b[39m\u001b[38;5;132;01m}\u001b[39;00m\u001b[38;5;124m/\u001b[39m\u001b[38;5;132;01m{\u001b[39;00mnum_epochs\u001b[38;5;132;01m}\u001b[39;00m\u001b[38;5;124m], Loss: \u001b[39m\u001b[38;5;132;01m{\u001b[39;00mloss\u001b[38;5;241m.\u001b[39mitem()\u001b[38;5;132;01m:\u001b[39;00m\u001b[38;5;124m.4f\u001b[39m\u001b[38;5;132;01m}\u001b[39;00m\u001b[38;5;124m'\u001b[39m)\n",
      "File \u001b[0;32m/Library/Frameworks/Python.framework/Versions/3.11/lib/python3.11/site-packages/torch/_tensor.py:522\u001b[0m, in \u001b[0;36mTensor.backward\u001b[0;34m(self, gradient, retain_graph, create_graph, inputs)\u001b[0m\n\u001b[1;32m    512\u001b[0m \u001b[38;5;28;01mif\u001b[39;00m has_torch_function_unary(\u001b[38;5;28mself\u001b[39m):\n\u001b[1;32m    513\u001b[0m     \u001b[38;5;28;01mreturn\u001b[39;00m handle_torch_function(\n\u001b[1;32m    514\u001b[0m         Tensor\u001b[38;5;241m.\u001b[39mbackward,\n\u001b[1;32m    515\u001b[0m         (\u001b[38;5;28mself\u001b[39m,),\n\u001b[0;32m   (...)\u001b[0m\n\u001b[1;32m    520\u001b[0m         inputs\u001b[38;5;241m=\u001b[39minputs,\n\u001b[1;32m    521\u001b[0m     )\n\u001b[0;32m--> 522\u001b[0m \u001b[43mtorch\u001b[49m\u001b[38;5;241;43m.\u001b[39;49m\u001b[43mautograd\u001b[49m\u001b[38;5;241;43m.\u001b[39;49m\u001b[43mbackward\u001b[49m\u001b[43m(\u001b[49m\n\u001b[1;32m    523\u001b[0m \u001b[43m    \u001b[49m\u001b[38;5;28;43mself\u001b[39;49m\u001b[43m,\u001b[49m\u001b[43m \u001b[49m\u001b[43mgradient\u001b[49m\u001b[43m,\u001b[49m\u001b[43m \u001b[49m\u001b[43mretain_graph\u001b[49m\u001b[43m,\u001b[49m\u001b[43m \u001b[49m\u001b[43mcreate_graph\u001b[49m\u001b[43m,\u001b[49m\u001b[43m \u001b[49m\u001b[43minputs\u001b[49m\u001b[38;5;241;43m=\u001b[39;49m\u001b[43minputs\u001b[49m\n\u001b[1;32m    524\u001b[0m \u001b[43m\u001b[49m\u001b[43m)\u001b[49m\n",
      "File \u001b[0;32m/Library/Frameworks/Python.framework/Versions/3.11/lib/python3.11/site-packages/torch/autograd/__init__.py:266\u001b[0m, in \u001b[0;36mbackward\u001b[0;34m(tensors, grad_tensors, retain_graph, create_graph, grad_variables, inputs)\u001b[0m\n\u001b[1;32m    261\u001b[0m     retain_graph \u001b[38;5;241m=\u001b[39m create_graph\n\u001b[1;32m    263\u001b[0m \u001b[38;5;66;03m# The reason we repeat the same comment below is that\u001b[39;00m\n\u001b[1;32m    264\u001b[0m \u001b[38;5;66;03m# some Python versions print out the first line of a multi-line function\u001b[39;00m\n\u001b[1;32m    265\u001b[0m \u001b[38;5;66;03m# calls in the traceback and some print out the last line\u001b[39;00m\n\u001b[0;32m--> 266\u001b[0m \u001b[43mVariable\u001b[49m\u001b[38;5;241;43m.\u001b[39;49m\u001b[43m_execution_engine\u001b[49m\u001b[38;5;241;43m.\u001b[39;49m\u001b[43mrun_backward\u001b[49m\u001b[43m(\u001b[49m\u001b[43m  \u001b[49m\u001b[38;5;66;43;03m# Calls into the C++ engine to run the backward pass\u001b[39;49;00m\n\u001b[1;32m    267\u001b[0m \u001b[43m    \u001b[49m\u001b[43mtensors\u001b[49m\u001b[43m,\u001b[49m\n\u001b[1;32m    268\u001b[0m \u001b[43m    \u001b[49m\u001b[43mgrad_tensors_\u001b[49m\u001b[43m,\u001b[49m\n\u001b[1;32m    269\u001b[0m \u001b[43m    \u001b[49m\u001b[43mretain_graph\u001b[49m\u001b[43m,\u001b[49m\n\u001b[1;32m    270\u001b[0m \u001b[43m    \u001b[49m\u001b[43mcreate_graph\u001b[49m\u001b[43m,\u001b[49m\n\u001b[1;32m    271\u001b[0m \u001b[43m    \u001b[49m\u001b[43minputs\u001b[49m\u001b[43m,\u001b[49m\n\u001b[1;32m    272\u001b[0m \u001b[43m    \u001b[49m\u001b[43mallow_unreachable\u001b[49m\u001b[38;5;241;43m=\u001b[39;49m\u001b[38;5;28;43;01mTrue\u001b[39;49;00m\u001b[43m,\u001b[49m\n\u001b[1;32m    273\u001b[0m \u001b[43m    \u001b[49m\u001b[43maccumulate_grad\u001b[49m\u001b[38;5;241;43m=\u001b[39;49m\u001b[38;5;28;43;01mTrue\u001b[39;49;00m\u001b[43m,\u001b[49m\n\u001b[1;32m    274\u001b[0m \u001b[43m\u001b[49m\u001b[43m)\u001b[49m\n",
      "\u001b[0;31mKeyboardInterrupt\u001b[0m: "
     ]
    }
   ],
   "source": [
    "# Training loop\n",
    "num_epochs = 10\n",
    "for epoch in range(num_epochs):\n",
    "    model.train()\n",
    "    optimizer.zero_grad()\n",
    "    \n",
    "    # Forward pass\n",
    "    outputs = model(input_tensor)\n",
    "    loss = criterion(outputs, input_tensor)  # Assuming input_tensor contains the target velocities for simplicity\n",
    "    \n",
    "    # Backward pass\n",
    "    loss.backward()\n",
    "    optimizer.step()\n",
    "    \n",
    "    print(f'Epoch [{epoch+1}/{num_epochs}], Loss: {loss.item():.4f}')\n"
   ]
  }
 ],
 "metadata": {
  "kernelspec": {
   "display_name": "Python 3",
   "language": "python",
   "name": "python3"
  },
  "language_info": {
   "codemirror_mode": {
    "name": "ipython",
    "version": 3
   },
   "file_extension": ".py",
   "mimetype": "text/x-python",
   "name": "python",
   "nbconvert_exporter": "python",
   "pygments_lexer": "ipython3",
   "version": "3.11.3"
  }
 },
 "nbformat": 4,
 "nbformat_minor": 2
}
