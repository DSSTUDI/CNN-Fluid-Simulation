{
 "cells": [
  {
   "cell_type": "code",
   "execution_count": 29,
   "metadata": {},
   "outputs": [],
   "source": [
    "import torch\n",
    "import torch.nn as nn\n",
    "import torch.optim as optim\n",
    "import pandas as pd\n",
    "import os\n",
    "import csv\n",
    "import numpy as np\n",
    "from matplotlib import pyplot as plt\n",
    "from scipy.ndimage import distance_transform_edt"
   ]
  },
  {
   "cell_type": "code",
   "execution_count": 30,
   "metadata": {},
   "outputs": [],
   "source": [
    "# Process shapes data\n",
    "raw_shapes = []\n",
    "directory = 'Dataset_32/shape'\n",
    "for file in sorted(os.listdir(directory)):\n",
    "    filepath = os.path.join(directory, file)\n",
    "    with open(filepath, newline='') as f:\n",
    "        reader = csv.reader(f)\n",
    "        data = list(reader)\n",
    "        raw_shapes.append(data)\n",
    "\n",
    "clean_shapes = []\n",
    "for shape in raw_shapes:\n",
    "    clean_shape = pd.DataFrame(shape).iloc[1:-1, 1:-2]\n",
    "    clean_shapes.append(clean_shape.transpose())\n",
    "\n",
    "# Create signed distance fields for shapes\n",
    "sdf_shapes = []\n",
    "for s in clean_shapes:\n",
    "    # Create a mask for the inside and outside of the shape\n",
    "    shape = s.astype(float)\n",
    "    inside_mask = shape == -1\n",
    "    outside_mask = shape == 0\n",
    "\n",
    "    # Compute the distance transform for both the inside and outside\n",
    "    distance_inside = distance_transform_edt(inside_mask)\n",
    "    distance_outside = distance_transform_edt(outside_mask)\n",
    "\n",
    "    # Create the signed distance field\n",
    "    signed_distance_field = distance_outside - distance_inside\n",
    "\n",
    "    # Normalize the signed distance field\n",
    "    max_distance = np.max(np.abs(signed_distance_field))\n",
    "    if max_distance > 0:\n",
    "        signed_distance_field = signed_distance_field / max_distance\n",
    "\n",
    "    # Set the values inside the original shape to 0\n",
    "    signed_distance_field[inside_mask] = 0\n",
    "    sdf_shapes.append(signed_distance_field)\n",
    "\n",
    "\n",
    "# Process vertical data\n",
    "raw_verticals = []\n",
    "directory = 'Dataset_32/vertical'\n",
    "for file in sorted(os.listdir(directory)):\n",
    "    filepath = os.path.join(directory, file)\n",
    "    with open(filepath, newline='') as f:\n",
    "        reader = csv.reader(f)\n",
    "        data = list(reader)\n",
    "        raw_verticals.append(data)\n",
    "\n",
    "clean_verticals = []\n",
    "for vertical in raw_verticals:\n",
    "    clean_vertical = pd.DataFrame(vertical).iloc[1:-1, 1:-2]\n",
    "    clean_verticals.append(clean_vertical.transpose())\n",
    "\n",
    "\n",
    "# Process horizontal data\n",
    "raw_horizontals = []\n",
    "directory = 'Dataset_32/horizontal'\n",
    "for file in sorted(os.listdir(directory)):\n",
    "    filepath = os.path.join(directory, file)\n",
    "    with open(filepath, newline='') as f:\n",
    "        reader = csv.reader(f)\n",
    "        data = list(reader)\n",
    "        raw_horizontals.append(data)\n",
    "\n",
    "clean_horizontals = []\n",
    "for horizontal in raw_horizontals:\n",
    "    clean_horizontal = pd.DataFrame(horizontal).iloc[1:-1, 1:-2]\n",
    "    clean_horizontals.append(clean_horizontal.transpose())\n",
    "\n",
    "\n",
    "# Calculate total velocity\n",
    "total_velocities = []\n",
    "for i in range(len(clean_shapes)):\n",
    "    total_velocity = np.sqrt(np.square(clean_verticals[i].astype(float)) + np.square(clean_horizontals[i].astype(float)))\n",
    "    total_velocities.append(total_velocity)\n"
   ]
  },
  {
   "cell_type": "code",
   "execution_count": 31,
   "metadata": {},
   "outputs": [
    {
     "data": {
      "image/png": "[encoded data removed]",
      "text/plain": [
       "<Figure size 640x480 with 1 Axes>"
      ]
     },
     "metadata": {},
     "output_type": "display_data"
    }
   ],
   "source": [
    "shape_data = sdf_shapes[221].tolist()\n",
    "shape_data = np.array(shape_data).astype(float)\n",
    "plt.imshow(shape_data, cmap='hot', interpolation='nearest')\n",
    "plt.show()"
   ]
  },
  {
   "cell_type": "code",
   "execution_count": 32,
   "metadata": {},
   "outputs": [],
   "source": [
    "# Create training dataset\n",
    "temp = []\n",
    "for i in range(len(sdf_shapes)):\n",
    "    input_example = sdf_shapes[i].astype(float)\n",
    "    output_example = total_velocities[i].values.astype(float)\n",
    "    temp.append((input_example, output_example))\n",
    "\n",
    "data_tensor = torch.FloatTensor(temp)\n",
    "\n",
    "# Split training dataset into training, validation, and test\n",
    "training_size = int(0.6 * len(data_tensor))\n",
    "validation_size = int(0.2 * len(data_tensor))\n",
    "test_size = len(data_tensor) - training_size - validation_size\n",
    "\n",
    "training_dataset, validation_dataset, test_dataset = torch.utils.data.random_split(data_tensor, [training_size, validation_size, test_size])\n"
   ]
  },
  {
   "cell_type": "code",
   "execution_count": 33,
   "metadata": {},
   "outputs": [
    {
     "data": {
      "image/png": "[encoded data removed]",
      "text/plain": [
       "<Figure size 640x480 with 1 Axes>"
      ]
     },
     "metadata": {},
     "output_type": "display_data"
    },
    {
     "name": "stdout",
     "output_type": "stream",
     "text": [
      "<built-in method type of Tensor object at 0x159a401d0>\n"
     ]
    }
   ],
   "source": [
    "input, output = training_dataset[200]\n",
    "plt.imshow(output, cmap='hot', interpolation='nearest')\n",
    "plt.show()\n",
    "print(input.type)"
   ]
  },
  {
   "cell_type": "code",
   "execution_count": 34,
   "metadata": {},
   "outputs": [],
   "source": [
    "class CFD_CNN(nn.Module):\n",
    "    def __init__(self):\n",
    "        super(CFD_CNN, self).__init__()\n",
    "        self.encoder = nn.Sequential(\n",
    "            nn.Conv2d(1, 16, kernel_size=3, stride=1, padding=1),\n",
    "            nn.ReLU(),\n",
    "            nn.Conv2d(16, 32, kernel_size=3, stride=1, padding=1),\n",
    "            nn.ReLU(),\n",
    "        )\n",
    "        self.fc = nn.Linear(32, 32)\n",
    "        self.decoder = nn.Sequential(\n",
    "            nn.ConvTranspose2d(32, 32, kernel_size=3, stride=1, padding=1),\n",
    "            nn.ReLU(),\n",
    "            nn.ConvTranspose2d(32, 2, kernel_size=3, stride=1, padding=1),\n",
    "        )\n",
    "\n",
    "    def forward(self, x):\n",
    "        x = self.encoder(x)\n",
    "        x = self.decoder(x)\n",
    "        return x\n"
   ]
  },
  {
   "cell_type": "code",
   "execution_count": 35,
   "metadata": {},
   "outputs": [],
   "source": [
    "# Initialize the model\n",
    "model = CFD_CNN()\n",
    "criterion = nn.MSELoss()\n",
    "optimizer = optim.RMSprop(model.parameters(), lr=0.001)"
   ]
  },
  {
   "cell_type": "code",
   "execution_count": 43,
   "metadata": {},
   "outputs": [
    {
     "name": "stdout",
     "output_type": "stream",
     "text": [
      "[1,   100] loss: 0.000\n",
      "[1,   200] loss: 0.000\n",
      "[1,   300] loss: 0.000\n",
      "[1,   400] loss: 0.000\n",
      "[1,   500] loss: 0.000\n",
      "[1,   600] loss: 0.000\n",
      "1 0.013014252894790843\n",
      "[2,   100] loss: 0.000\n",
      "[2,   200] loss: 0.000\n",
      "[2,   300] loss: 0.000\n",
      "[2,   400] loss: 0.000\n",
      "[2,   500] loss: 0.000\n",
      "[2,   600] loss: 0.000\n",
      "2 0.013011126057632888\n",
      "[3,   100] loss: 0.000\n",
      "[3,   200] loss: 0.000\n",
      "[3,   300] loss: 0.000\n",
      "[3,   400] loss: 0.000\n",
      "[3,   500] loss: 0.000\n",
      "[3,   600] loss: 0.000\n",
      "3 0.012998894173845959\n",
      "[4,   100] loss: 0.000\n",
      "[4,   200] loss: 0.000\n",
      "[4,   300] loss: 0.000\n",
      "[4,   400] loss: 0.000\n",
      "[4,   500] loss: 0.000\n",
      "[4,   600] loss: 0.000\n",
      "4 0.012983673512353562\n",
      "[5,   100] loss: 0.000\n",
      "[5,   200] loss: 0.000\n",
      "[5,   300] loss: 0.000\n",
      "[5,   400] loss: 0.000\n",
      "[5,   500] loss: 0.000\n",
      "[5,   600] loss: 0.000\n",
      "5 0.012962040836573579\n",
      "[6,   100] loss: 0.000\n",
      "[6,   200] loss: 0.000\n",
      "[6,   300] loss: 0.000\n",
      "[6,   400] loss: 0.000\n",
      "[6,   500] loss: 0.000\n",
      "[6,   600] loss: 0.000\n",
      "6 0.012932315376431991\n",
      "[7,   100] loss: 0.000\n",
      "[7,   200] loss: 0.000\n",
      "[7,   300] loss: 0.000\n",
      "[7,   400] loss: 0.000\n",
      "[7,   500] loss: 0.000\n",
      "[7,   600] loss: 0.000\n",
      "7 0.012926532972293596\n",
      "[8,   100] loss: 0.000\n",
      "[8,   200] loss: 0.000\n",
      "[8,   300] loss: 0.000\n",
      "[8,   400] loss: 0.000\n",
      "[8,   500] loss: 0.000\n",
      "[8,   600] loss: 0.000\n",
      "8 0.012905363660344544\n",
      "[9,   100] loss: 0.000\n",
      "[9,   200] loss: 0.000\n",
      "[9,   300] loss: 0.000\n",
      "[9,   400] loss: 0.000\n",
      "[9,   500] loss: 0.000\n",
      "[9,   600] loss: 0.000\n",
      "9 0.012881998917437158\n",
      "[10,   100] loss: 0.000\n",
      "[10,   200] loss: 0.000\n",
      "[10,   300] loss: 0.000\n",
      "[10,   400] loss: 0.000\n",
      "[10,   500] loss: 0.000\n",
      "[10,   600] loss: 0.000\n",
      "10 0.01287097092155212\n",
      "[11,   100] loss: 0.000\n",
      "[11,   200] loss: 0.000\n",
      "[11,   300] loss: 0.000\n",
      "[11,   400] loss: 0.000\n",
      "[11,   500] loss: 0.000\n",
      "[11,   600] loss: 0.000\n",
      "11 0.012852402633288875\n",
      "[12,   100] loss: 0.000\n",
      "[12,   200] loss: 0.000\n",
      "[12,   300] loss: 0.000\n",
      "[12,   400] loss: 0.000\n",
      "[12,   500] loss: 0.000\n",
      "[12,   600] loss: 0.000\n",
      "12 0.01283112954425936\n",
      "[13,   100] loss: 0.000\n",
      "[13,   200] loss: 0.000\n",
      "[13,   300] loss: 0.000\n",
      "[13,   400] loss: 0.000\n",
      "[13,   500] loss: 0.000\n",
      "[13,   600] loss: 0.000\n",
      "13 0.012821733901510014\n",
      "[14,   100] loss: 0.000\n",
      "[14,   200] loss: 0.000\n",
      "[14,   300] loss: 0.000\n",
      "[14,   400] loss: 0.000\n",
      "[14,   500] loss: 0.000\n",
      "[14,   600] loss: 0.000\n",
      "14 0.012806112659551824\n",
      "[15,   100] loss: 0.000\n",
      "[15,   200] loss: 0.000\n",
      "[15,   300] loss: 0.000\n",
      "[15,   400] loss: 0.000\n",
      "[15,   500] loss: 0.000\n",
      "[15,   600] loss: 0.000\n",
      "15 0.012784861489781179\n",
      "[16,   100] loss: 0.000\n",
      "[16,   200] loss: 0.000\n",
      "[16,   300] loss: 0.000\n",
      "[16,   400] loss: 0.000\n",
      "[16,   500] loss: 0.000\n",
      "[16,   600] loss: 0.000\n",
      "16 0.012776358717819675\n",
      "[17,   100] loss: 0.000\n",
      "[17,   200] loss: 0.000\n",
      "[17,   300] loss: 0.000\n",
      "[17,   400] loss: 0.000\n",
      "[17,   500] loss: 0.000\n",
      "[17,   600] loss: 0.000\n",
      "17 0.012760957256347561\n",
      "[18,   100] loss: 0.000\n",
      "[18,   200] loss: 0.000\n",
      "[18,   300] loss: 0.000\n",
      "[18,   400] loss: 0.000\n",
      "[18,   500] loss: 0.000\n",
      "[18,   600] loss: 0.000\n",
      "18 0.012735432405800868\n",
      "[19,   100] loss: 0.000\n",
      "[19,   200] loss: 0.000\n",
      "[19,   300] loss: 0.000\n",
      "[19,   400] loss: 0.000\n",
      "[19,   500] loss: 0.000\n",
      "[19,   600] loss: 0.000\n",
      "19 0.01271879934395353\n",
      "[20,   100] loss: 0.000\n",
      "[20,   200] loss: 0.000\n",
      "[20,   300] loss: 0.000\n",
      "[20,   400] loss: 0.000\n",
      "[20,   500] loss: 0.000\n",
      "[20,   600] loss: 0.000\n",
      "20 0.012713328827133713\n",
      "[21,   100] loss: 0.000\n",
      "[21,   200] loss: 0.000\n",
      "[21,   300] loss: 0.000\n",
      "[21,   400] loss: 0.000\n",
      "[21,   500] loss: 0.000\n",
      "[21,   600] loss: 0.000\n",
      "21 0.012698128764750436\n",
      "[22,   100] loss: 0.000\n",
      "[22,   200] loss: 0.000\n",
      "[22,   300] loss: 0.000\n",
      "[22,   400] loss: 0.000\n",
      "[22,   500] loss: 0.000\n",
      "[22,   600] loss: 0.000\n",
      "22 0.012681418670496592\n",
      "[23,   100] loss: 0.000\n",
      "[23,   200] loss: 0.000\n",
      "[23,   300] loss: 0.000\n",
      "[23,   400] loss: 0.000\n",
      "[23,   500] loss: 0.000\n",
      "[23,   600] loss: 0.000\n",
      "23 0.012669870243019734\n",
      "[24,   100] loss: 0.000\n",
      "[24,   200] loss: 0.000\n",
      "[24,   300] loss: 0.000\n",
      "[24,   400] loss: 0.000\n",
      "[24,   500] loss: 0.000\n",
      "[24,   600] loss: 0.000\n",
      "24 0.012653153743788911\n",
      "[25,   100] loss: 0.000\n",
      "[25,   200] loss: 0.000\n",
      "[25,   300] loss: 0.000\n",
      "[25,   400] loss: 0.000\n",
      "[25,   500] loss: 0.000\n",
      "[25,   600] loss: 0.000\n",
      "25 0.012639400888583624\n",
      "[26,   100] loss: 0.000\n",
      "[26,   200] loss: 0.000\n",
      "[26,   300] loss: 0.000\n",
      "[26,   400] loss: 0.000\n",
      "[26,   500] loss: 0.000\n",
      "[26,   600] loss: 0.000\n",
      "26 0.012622757163092805\n",
      "[27,   100] loss: 0.000\n",
      "[27,   200] loss: 0.000\n",
      "[27,   300] loss: 0.000\n",
      "[27,   400] loss: 0.000\n",
      "[27,   500] loss: 0.000\n",
      "[27,   600] loss: 0.000\n",
      "27 0.01261791490619847\n",
      "[28,   100] loss: 0.000\n",
      "[28,   200] loss: 0.000\n",
      "[28,   300] loss: 0.000\n",
      "[28,   400] loss: 0.000\n",
      "[28,   500] loss: 0.000\n",
      "[28,   600] loss: 0.000\n",
      "28 0.012595795626014782\n",
      "[29,   100] loss: 0.000\n",
      "[29,   200] loss: 0.000\n",
      "[29,   300] loss: 0.000\n",
      "[29,   400] loss: 0.000\n",
      "[29,   500] loss: 0.000\n",
      "[29,   600] loss: 0.000\n",
      "29 0.01258503678875665\n",
      "[30,   100] loss: 0.000\n",
      "[30,   200] loss: 0.000\n",
      "[30,   300] loss: 0.000\n",
      "[30,   400] loss: 0.000\n",
      "[30,   500] loss: 0.000\n",
      "[30,   600] loss: 0.000\n",
      "30 0.01257509023261567\n",
      "[31,   100] loss: 0.000\n",
      "[31,   200] loss: 0.000\n",
      "[31,   300] loss: 0.000\n",
      "[31,   400] loss: 0.000\n",
      "[31,   500] loss: 0.000\n",
      "[31,   600] loss: 0.000\n",
      "31 0.012558125157180864\n",
      "[32,   100] loss: 0.000\n"
     ]
    },
    {
     "ename": "KeyboardInterrupt",
     "evalue": "",
     "output_type": "error",
     "traceback": [
      "\u001b[0;31m---------------------------------------------------------------------------\u001b[0m",
      "\u001b[0;31mKeyboardInterrupt\u001b[0m                         Traceback (most recent call last)",
      "Cell \u001b[0;32mIn[43], line 15\u001b[0m\n\u001b[1;32m     12\u001b[0m optimizer\u001b[38;5;241m.\u001b[39mzero_grad()\n\u001b[1;32m     14\u001b[0m \u001b[38;5;66;03m# forward + optimize\u001b[39;00m\n\u001b[0;32m---> 15\u001b[0m outputs \u001b[38;5;241m=\u001b[39m \u001b[43mmodel\u001b[49m\u001b[43m(\u001b[49m\u001b[43mtensor_inputs\u001b[49m\u001b[43m)\u001b[49m\n\u001b[1;32m     16\u001b[0m loss \u001b[38;5;241m=\u001b[39m criterion(outputs, tensor_labels)\n\u001b[1;32m     17\u001b[0m loss\u001b[38;5;241m.\u001b[39mbackward()\n",
      "File \u001b[0;32m/Library/Frameworks/Python.framework/Versions/3.11/lib/python3.11/site-packages/torch/nn/modules/module.py:1511\u001b[0m, in \u001b[0;36mModule._wrapped_call_impl\u001b[0;34m(self, *args, **kwargs)\u001b[0m\n\u001b[1;32m   1509\u001b[0m     \u001b[38;5;28;01mreturn\u001b[39;00m \u001b[38;5;28mself\u001b[39m\u001b[38;5;241m.\u001b[39m_compiled_call_impl(\u001b[38;5;241m*\u001b[39margs, \u001b[38;5;241m*\u001b[39m\u001b[38;5;241m*\u001b[39mkwargs)  \u001b[38;5;66;03m# type: ignore[misc]\u001b[39;00m\n\u001b[1;32m   1510\u001b[0m \u001b[38;5;28;01melse\u001b[39;00m:\n\u001b[0;32m-> 1511\u001b[0m     \u001b[38;5;28;01mreturn\u001b[39;00m \u001b[38;5;28;43mself\u001b[39;49m\u001b[38;5;241;43m.\u001b[39;49m\u001b[43m_call_impl\u001b[49m\u001b[43m(\u001b[49m\u001b[38;5;241;43m*\u001b[39;49m\u001b[43margs\u001b[49m\u001b[43m,\u001b[49m\u001b[43m \u001b[49m\u001b[38;5;241;43m*\u001b[39;49m\u001b[38;5;241;43m*\u001b[39;49m\u001b[43mkwargs\u001b[49m\u001b[43m)\u001b[49m\n",
      "File \u001b[0;32m/Library/Frameworks/Python.framework/Versions/3.11/lib/python3.11/site-packages/torch/nn/modules/module.py:1520\u001b[0m, in \u001b[0;36mModule._call_impl\u001b[0;34m(self, *args, **kwargs)\u001b[0m\n\u001b[1;32m   1515\u001b[0m \u001b[38;5;66;03m# If we don't have any hooks, we want to skip the rest of the logic in\u001b[39;00m\n\u001b[1;32m   1516\u001b[0m \u001b[38;5;66;03m# this function, and just call forward.\u001b[39;00m\n\u001b[1;32m   1517\u001b[0m \u001b[38;5;28;01mif\u001b[39;00m \u001b[38;5;129;01mnot\u001b[39;00m (\u001b[38;5;28mself\u001b[39m\u001b[38;5;241m.\u001b[39m_backward_hooks \u001b[38;5;129;01mor\u001b[39;00m \u001b[38;5;28mself\u001b[39m\u001b[38;5;241m.\u001b[39m_backward_pre_hooks \u001b[38;5;129;01mor\u001b[39;00m \u001b[38;5;28mself\u001b[39m\u001b[38;5;241m.\u001b[39m_forward_hooks \u001b[38;5;129;01mor\u001b[39;00m \u001b[38;5;28mself\u001b[39m\u001b[38;5;241m.\u001b[39m_forward_pre_hooks\n\u001b[1;32m   1518\u001b[0m         \u001b[38;5;129;01mor\u001b[39;00m _global_backward_pre_hooks \u001b[38;5;129;01mor\u001b[39;00m _global_backward_hooks\n\u001b[1;32m   1519\u001b[0m         \u001b[38;5;129;01mor\u001b[39;00m _global_forward_hooks \u001b[38;5;129;01mor\u001b[39;00m _global_forward_pre_hooks):\n\u001b[0;32m-> 1520\u001b[0m     \u001b[38;5;28;01mreturn\u001b[39;00m \u001b[43mforward_call\u001b[49m\u001b[43m(\u001b[49m\u001b[38;5;241;43m*\u001b[39;49m\u001b[43margs\u001b[49m\u001b[43m,\u001b[49m\u001b[43m \u001b[49m\u001b[38;5;241;43m*\u001b[39;49m\u001b[38;5;241;43m*\u001b[39;49m\u001b[43mkwargs\u001b[49m\u001b[43m)\u001b[49m\n\u001b[1;32m   1522\u001b[0m \u001b[38;5;28;01mtry\u001b[39;00m:\n\u001b[1;32m   1523\u001b[0m     result \u001b[38;5;241m=\u001b[39m \u001b[38;5;28;01mNone\u001b[39;00m\n",
      "Cell \u001b[0;32mIn[34], line 19\u001b[0m, in \u001b[0;36mCFD_CNN.forward\u001b[0;34m(self, x)\u001b[0m\n\u001b[1;32m     17\u001b[0m \u001b[38;5;28;01mdef\u001b[39;00m \u001b[38;5;21mforward\u001b[39m(\u001b[38;5;28mself\u001b[39m, x):\n\u001b[1;32m     18\u001b[0m     x \u001b[38;5;241m=\u001b[39m \u001b[38;5;28mself\u001b[39m\u001b[38;5;241m.\u001b[39mencoder(x)\n\u001b[0;32m---> 19\u001b[0m     x \u001b[38;5;241m=\u001b[39m \u001b[38;5;28;43mself\u001b[39;49m\u001b[38;5;241;43m.\u001b[39;49m\u001b[43mdecoder\u001b[49m\u001b[43m(\u001b[49m\u001b[43mx\u001b[49m\u001b[43m)\u001b[49m\n\u001b[1;32m     20\u001b[0m     \u001b[38;5;28;01mreturn\u001b[39;00m x\n",
      "File \u001b[0;32m/Library/Frameworks/Python.framework/Versions/3.11/lib/python3.11/site-packages/torch/nn/modules/module.py:1511\u001b[0m, in \u001b[0;36mModule._wrapped_call_impl\u001b[0;34m(self, *args, **kwargs)\u001b[0m\n\u001b[1;32m   1509\u001b[0m     \u001b[38;5;28;01mreturn\u001b[39;00m \u001b[38;5;28mself\u001b[39m\u001b[38;5;241m.\u001b[39m_compiled_call_impl(\u001b[38;5;241m*\u001b[39margs, \u001b[38;5;241m*\u001b[39m\u001b[38;5;241m*\u001b[39mkwargs)  \u001b[38;5;66;03m# type: ignore[misc]\u001b[39;00m\n\u001b[1;32m   1510\u001b[0m \u001b[38;5;28;01melse\u001b[39;00m:\n\u001b[0;32m-> 1511\u001b[0m     \u001b[38;5;28;01mreturn\u001b[39;00m \u001b[38;5;28;43mself\u001b[39;49m\u001b[38;5;241;43m.\u001b[39;49m\u001b[43m_call_impl\u001b[49m\u001b[43m(\u001b[49m\u001b[38;5;241;43m*\u001b[39;49m\u001b[43margs\u001b[49m\u001b[43m,\u001b[49m\u001b[43m \u001b[49m\u001b[38;5;241;43m*\u001b[39;49m\u001b[38;5;241;43m*\u001b[39;49m\u001b[43mkwargs\u001b[49m\u001b[43m)\u001b[49m\n",
      "File \u001b[0;32m/Library/Frameworks/Python.framework/Versions/3.11/lib/python3.11/site-packages/torch/nn/modules/module.py:1520\u001b[0m, in \u001b[0;36mModule._call_impl\u001b[0;34m(self, *args, **kwargs)\u001b[0m\n\u001b[1;32m   1515\u001b[0m \u001b[38;5;66;03m# If we don't have any hooks, we want to skip the rest of the logic in\u001b[39;00m\n\u001b[1;32m   1516\u001b[0m \u001b[38;5;66;03m# this function, and just call forward.\u001b[39;00m\n\u001b[1;32m   1517\u001b[0m \u001b[38;5;28;01mif\u001b[39;00m \u001b[38;5;129;01mnot\u001b[39;00m (\u001b[38;5;28mself\u001b[39m\u001b[38;5;241m.\u001b[39m_backward_hooks \u001b[38;5;129;01mor\u001b[39;00m \u001b[38;5;28mself\u001b[39m\u001b[38;5;241m.\u001b[39m_backward_pre_hooks \u001b[38;5;129;01mor\u001b[39;00m \u001b[38;5;28mself\u001b[39m\u001b[38;5;241m.\u001b[39m_forward_hooks \u001b[38;5;129;01mor\u001b[39;00m \u001b[38;5;28mself\u001b[39m\u001b[38;5;241m.\u001b[39m_forward_pre_hooks\n\u001b[1;32m   1518\u001b[0m         \u001b[38;5;129;01mor\u001b[39;00m _global_backward_pre_hooks \u001b[38;5;129;01mor\u001b[39;00m _global_backward_hooks\n\u001b[1;32m   1519\u001b[0m         \u001b[38;5;129;01mor\u001b[39;00m _global_forward_hooks \u001b[38;5;129;01mor\u001b[39;00m _global_forward_pre_hooks):\n\u001b[0;32m-> 1520\u001b[0m     \u001b[38;5;28;01mreturn\u001b[39;00m \u001b[43mforward_call\u001b[49m\u001b[43m(\u001b[49m\u001b[38;5;241;43m*\u001b[39;49m\u001b[43margs\u001b[49m\u001b[43m,\u001b[49m\u001b[43m \u001b[49m\u001b[38;5;241;43m*\u001b[39;49m\u001b[38;5;241;43m*\u001b[39;49m\u001b[43mkwargs\u001b[49m\u001b[43m)\u001b[49m\n\u001b[1;32m   1522\u001b[0m \u001b[38;5;28;01mtry\u001b[39;00m:\n\u001b[1;32m   1523\u001b[0m     result \u001b[38;5;241m=\u001b[39m \u001b[38;5;28;01mNone\u001b[39;00m\n",
      "File \u001b[0;32m/Library/Frameworks/Python.framework/Versions/3.11/lib/python3.11/site-packages/torch/nn/modules/container.py:217\u001b[0m, in \u001b[0;36mSequential.forward\u001b[0;34m(self, input)\u001b[0m\n\u001b[1;32m    215\u001b[0m \u001b[38;5;28;01mdef\u001b[39;00m \u001b[38;5;21mforward\u001b[39m(\u001b[38;5;28mself\u001b[39m, \u001b[38;5;28minput\u001b[39m):\n\u001b[1;32m    216\u001b[0m     \u001b[38;5;28;01mfor\u001b[39;00m module \u001b[38;5;129;01min\u001b[39;00m \u001b[38;5;28mself\u001b[39m:\n\u001b[0;32m--> 217\u001b[0m         \u001b[38;5;28minput\u001b[39m \u001b[38;5;241m=\u001b[39m \u001b[43mmodule\u001b[49m\u001b[43m(\u001b[49m\u001b[38;5;28;43minput\u001b[39;49m\u001b[43m)\u001b[49m\n\u001b[1;32m    218\u001b[0m     \u001b[38;5;28;01mreturn\u001b[39;00m \u001b[38;5;28minput\u001b[39m\n",
      "File \u001b[0;32m/Library/Frameworks/Python.framework/Versions/3.11/lib/python3.11/site-packages/torch/nn/modules/module.py:1511\u001b[0m, in \u001b[0;36mModule._wrapped_call_impl\u001b[0;34m(self, *args, **kwargs)\u001b[0m\n\u001b[1;32m   1509\u001b[0m     \u001b[38;5;28;01mreturn\u001b[39;00m \u001b[38;5;28mself\u001b[39m\u001b[38;5;241m.\u001b[39m_compiled_call_impl(\u001b[38;5;241m*\u001b[39margs, \u001b[38;5;241m*\u001b[39m\u001b[38;5;241m*\u001b[39mkwargs)  \u001b[38;5;66;03m# type: ignore[misc]\u001b[39;00m\n\u001b[1;32m   1510\u001b[0m \u001b[38;5;28;01melse\u001b[39;00m:\n\u001b[0;32m-> 1511\u001b[0m     \u001b[38;5;28;01mreturn\u001b[39;00m \u001b[38;5;28;43mself\u001b[39;49m\u001b[38;5;241;43m.\u001b[39;49m\u001b[43m_call_impl\u001b[49m\u001b[43m(\u001b[49m\u001b[38;5;241;43m*\u001b[39;49m\u001b[43margs\u001b[49m\u001b[43m,\u001b[49m\u001b[43m \u001b[49m\u001b[38;5;241;43m*\u001b[39;49m\u001b[38;5;241;43m*\u001b[39;49m\u001b[43mkwargs\u001b[49m\u001b[43m)\u001b[49m\n",
      "File \u001b[0;32m/Library/Frameworks/Python.framework/Versions/3.11/lib/python3.11/site-packages/torch/nn/modules/module.py:1520\u001b[0m, in \u001b[0;36mModule._call_impl\u001b[0;34m(self, *args, **kwargs)\u001b[0m\n\u001b[1;32m   1515\u001b[0m \u001b[38;5;66;03m# If we don't have any hooks, we want to skip the rest of the logic in\u001b[39;00m\n\u001b[1;32m   1516\u001b[0m \u001b[38;5;66;03m# this function, and just call forward.\u001b[39;00m\n\u001b[1;32m   1517\u001b[0m \u001b[38;5;28;01mif\u001b[39;00m \u001b[38;5;129;01mnot\u001b[39;00m (\u001b[38;5;28mself\u001b[39m\u001b[38;5;241m.\u001b[39m_backward_hooks \u001b[38;5;129;01mor\u001b[39;00m \u001b[38;5;28mself\u001b[39m\u001b[38;5;241m.\u001b[39m_backward_pre_hooks \u001b[38;5;129;01mor\u001b[39;00m \u001b[38;5;28mself\u001b[39m\u001b[38;5;241m.\u001b[39m_forward_hooks \u001b[38;5;129;01mor\u001b[39;00m \u001b[38;5;28mself\u001b[39m\u001b[38;5;241m.\u001b[39m_forward_pre_hooks\n\u001b[1;32m   1518\u001b[0m         \u001b[38;5;129;01mor\u001b[39;00m _global_backward_pre_hooks \u001b[38;5;129;01mor\u001b[39;00m _global_backward_hooks\n\u001b[1;32m   1519\u001b[0m         \u001b[38;5;129;01mor\u001b[39;00m _global_forward_hooks \u001b[38;5;129;01mor\u001b[39;00m _global_forward_pre_hooks):\n\u001b[0;32m-> 1520\u001b[0m     \u001b[38;5;28;01mreturn\u001b[39;00m \u001b[43mforward_call\u001b[49m\u001b[43m(\u001b[49m\u001b[38;5;241;43m*\u001b[39;49m\u001b[43margs\u001b[49m\u001b[43m,\u001b[49m\u001b[43m \u001b[49m\u001b[38;5;241;43m*\u001b[39;49m\u001b[38;5;241;43m*\u001b[39;49m\u001b[43mkwargs\u001b[49m\u001b[43m)\u001b[49m\n\u001b[1;32m   1522\u001b[0m \u001b[38;5;28;01mtry\u001b[39;00m:\n\u001b[1;32m   1523\u001b[0m     result \u001b[38;5;241m=\u001b[39m \u001b[38;5;28;01mNone\u001b[39;00m\n",
      "File \u001b[0;32m/Library/Frameworks/Python.framework/Versions/3.11/lib/python3.11/site-packages/torch/nn/modules/conv.py:952\u001b[0m, in \u001b[0;36mConvTranspose2d.forward\u001b[0;34m(self, input, output_size)\u001b[0m\n\u001b[1;32m    947\u001b[0m num_spatial_dims \u001b[38;5;241m=\u001b[39m \u001b[38;5;241m2\u001b[39m\n\u001b[1;32m    948\u001b[0m output_padding \u001b[38;5;241m=\u001b[39m \u001b[38;5;28mself\u001b[39m\u001b[38;5;241m.\u001b[39m_output_padding(\n\u001b[1;32m    949\u001b[0m     \u001b[38;5;28minput\u001b[39m, output_size, \u001b[38;5;28mself\u001b[39m\u001b[38;5;241m.\u001b[39mstride, \u001b[38;5;28mself\u001b[39m\u001b[38;5;241m.\u001b[39mpadding, \u001b[38;5;28mself\u001b[39m\u001b[38;5;241m.\u001b[39mkernel_size,  \u001b[38;5;66;03m# type: ignore[arg-type]\u001b[39;00m\n\u001b[1;32m    950\u001b[0m     num_spatial_dims, \u001b[38;5;28mself\u001b[39m\u001b[38;5;241m.\u001b[39mdilation)  \u001b[38;5;66;03m# type: ignore[arg-type]\u001b[39;00m\n\u001b[0;32m--> 952\u001b[0m \u001b[38;5;28;01mreturn\u001b[39;00m \u001b[43mF\u001b[49m\u001b[38;5;241;43m.\u001b[39;49m\u001b[43mconv_transpose2d\u001b[49m\u001b[43m(\u001b[49m\n\u001b[1;32m    953\u001b[0m \u001b[43m    \u001b[49m\u001b[38;5;28;43minput\u001b[39;49m\u001b[43m,\u001b[49m\u001b[43m \u001b[49m\u001b[38;5;28;43mself\u001b[39;49m\u001b[38;5;241;43m.\u001b[39;49m\u001b[43mweight\u001b[49m\u001b[43m,\u001b[49m\u001b[43m \u001b[49m\u001b[38;5;28;43mself\u001b[39;49m\u001b[38;5;241;43m.\u001b[39;49m\u001b[43mbias\u001b[49m\u001b[43m,\u001b[49m\u001b[43m \u001b[49m\u001b[38;5;28;43mself\u001b[39;49m\u001b[38;5;241;43m.\u001b[39;49m\u001b[43mstride\u001b[49m\u001b[43m,\u001b[49m\u001b[43m \u001b[49m\u001b[38;5;28;43mself\u001b[39;49m\u001b[38;5;241;43m.\u001b[39;49m\u001b[43mpadding\u001b[49m\u001b[43m,\u001b[49m\n\u001b[1;32m    954\u001b[0m \u001b[43m    \u001b[49m\u001b[43moutput_padding\u001b[49m\u001b[43m,\u001b[49m\u001b[43m \u001b[49m\u001b[38;5;28;43mself\u001b[39;49m\u001b[38;5;241;43m.\u001b[39;49m\u001b[43mgroups\u001b[49m\u001b[43m,\u001b[49m\u001b[43m \u001b[49m\u001b[38;5;28;43mself\u001b[39;49m\u001b[38;5;241;43m.\u001b[39;49m\u001b[43mdilation\u001b[49m\u001b[43m)\u001b[49m\n",
      "\u001b[0;31mKeyboardInterrupt\u001b[0m: "
     ]
    }
   ],
   "source": [
    "for epoch in range(50):  # loop over the dataset multiple times\n",
    "    epoch_loss = 0.0\n",
    "    running_loss = 0.0\n",
    "    for i, data in enumerate(training_dataset, 0):\n",
    "        # get the inputs; data is a list of [inputs, labels]\n",
    "        inputs, labels = data\n",
    "\n",
    "        tensor_inputs = torch.FloatTensor(inputs).reshape(1, 1, 32, 32)\n",
    "        tensor_labels = torch.FloatTensor(labels)\n",
    "\n",
    "        # zero the parameter gradients\n",
    "        optimizer.zero_grad()\n",
    "\n",
    "        # forward + optimize\n",
    "        outputs = model(tensor_inputs)\n",
    "        loss = criterion(outputs, tensor_labels)\n",
    "        loss.backward()\n",
    "        optimizer.step()\n",
    "\n",
    "        # print statistics\n",
    "        epoch_loss += outputs.shape[0] * loss.item()\n",
    "        if i % 100 == 99:\n",
    "            print('[%d, %5d] loss: %.3f' %\n",
    "                (epoch + 1, i + 1, running_loss / 100))\n",
    "            running_loss = 0.0\n",
    "\n",
    "    print(epoch+1, epoch_loss / len(training_dataset))\n",
    "\n",
    "\n",
    "print('Finished Training')"
   ]
  },
  {
   "cell_type": "code",
   "execution_count": 37,
   "metadata": {},
   "outputs": [
    {
     "name": "stdout",
     "output_type": "stream",
     "text": [
      "torch.Size([1, 2, 32, 32])\n"
     ]
    },
    {
     "data": {
      "image/png": "[encoded data removed]",
      "text/plain": [
       "<Figure size 640x480 with 1 Axes>"
      ]
     },
     "metadata": {},
     "output_type": "display_data"
    },
    {
     "name": "stdout",
     "output_type": "stream",
     "text": [
      "<built-in method type of Tensor object at 0x159a401d0>\n",
      "-0.042579472064971924\n"
     ]
    }
   ],
   "source": [
    "inputs, labels = test_dataset[20]\n",
    "tensor_inputs = torch.FloatTensor(inputs).reshape(1, 1, 32, 32)\n",
    "tensor_labels = torch.FloatTensor(labels)\n",
    "\n",
    "tensor_outputs = model(tensor_inputs)\n",
    "\n",
    "print(tensor_outputs.shape)\n",
    "\n",
    "plt.imshow(tensor_outputs[0][1].detach().numpy(), cmap='hot', interpolation='nearest')\n",
    "plt.show()\n",
    "print(input.type)\n",
    "print(np.amin(tensor_outputs[0][1].tolist()))\n",
    "\n"
   ]
  },
  {
   "cell_type": "code",
   "execution_count": 38,
   "metadata": {},
   "outputs": [
    {
     "name": "stdout",
     "output_type": "stream",
     "text": [
      "torch.Size([32, 32])\n"
     ]
    },
    {
     "data": {
      "image/png": "[encoded data removed]",
      "text/plain": [
       "<Figure size 640x480 with 1 Axes>"
      ]
     },
     "metadata": {},
     "output_type": "display_data"
    },
    {
     "name": "stdout",
     "output_type": "stream",
     "text": [
      "0.0\n"
     ]
    }
   ],
   "source": [
    "print(tensor_labels.shape)\n",
    "plt.imshow(tensor_labels.detach().numpy(), cmap='hot', interpolation='nearest')\n",
    "plt.show()\n",
    "print(np.amin(tensor_labels.detach().numpy().tolist()))"
   ]
  },
  {
   "cell_type": "code",
   "execution_count": 39,
   "metadata": {},
   "outputs": [
    {
     "name": "stdout",
     "output_type": "stream",
     "text": [
      "torch.Size([1, 1, 32, 32])\n"
     ]
    },
    {
     "data": {
      "image/png": "[encoded data removed]",
      "text/plain": [
       "<Figure size 640x480 with 1 Axes>"
      ]
     },
     "metadata": {},
     "output_type": "display_data"
    }
   ],
   "source": [
    "print(tensor_inputs.shape)\n",
    "plt.imshow(tensor_inputs[0][0].detach().numpy(), cmap='hot', interpolation='nearest')\n",
    "plt.show()"
   ]
  },
  {
   "cell_type": "code",
   "execution_count": 40,
   "metadata": {},
   "outputs": [
    {
     "name": "stdout",
     "output_type": "stream",
     "text": [
      "Error: 6.89809843339026%\n"
     ]
    }
   ],
   "source": [
    "total_mse = 0\n",
    "\n",
    "for data in test_dataset:\n",
    "    inputs, labels = data\n",
    "    tensor_inputs = torch.FloatTensor(inputs).reshape(1, 1, 32, 32)\n",
    "    tensor_labels = torch.FloatTensor(labels)\n",
    "\n",
    "    tensor_outputs = model(tensor_inputs)\n",
    "\n",
    "    predicted = tensor_outputs[0][1].detach().numpy()\n",
    "    actual = tensor_labels.detach().numpy()\n",
    "\n",
    "    rmse = np.sqrt(np.mean((actual - predicted)**2))\n",
    "    n_rmse = rmse / np.amax(actual)-np.amin(actual)\n",
    "    total_mse += n_rmse\n",
    "\n",
    "accuracy = (total_mse / len(test_dataset)) * 100\n",
    "print(f\"Error: {accuracy}%\")"
   ]
  }
 ],
 "metadata": {
  "kernelspec": {
   "display_name": "fluid_sims",
   "language": "python",
   "name": "python3"
  },
  "language_info": {
   "codemirror_mode": {
    "name": "ipython",
    "version": 3
   },
   "file_extension": ".py",
   "mimetype": "text/x-python",
   "name": "python",
   "nbconvert_exporter": "python",
   "pygments_lexer": "ipython3",
   "version": "3.11.3"
  }
 },
 "nbformat": 4,
 "nbformat_minor": 2
}
